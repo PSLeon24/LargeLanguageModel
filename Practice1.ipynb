{
 "cells": [
  {
   "cell_type": "code",
   "execution_count": 1,
   "id": "74d99180",
   "metadata": {},
   "outputs": [
    {
     "name": "stderr",
     "output_type": "stream",
     "text": [
      "/home/viplab/anaconda3/envs/deepfake/lib/python3.10/site-packages/tqdm/auto.py:21: TqdmWarning: IProgress not found. Please update jupyter and ipywidgets. See https://ipywidgets.readthedocs.io/en/stable/user_install.html\n",
      "  from .autonotebook import tqdm as notebook_tqdm\n",
      "2024-10-28 14:57:52.756919: I tensorflow/core/util/port.cc:153] oneDNN custom operations are on. You may see slightly different numerical results due to floating-point round-off errors from different computation orders. To turn them off, set the environment variable `TF_ENABLE_ONEDNN_OPTS=0`.\n",
      "2024-10-28 14:57:52.765278: E external/local_xla/xla/stream_executor/cuda/cuda_fft.cc:477] Unable to register cuFFT factory: Attempting to register factory for plugin cuFFT when one has already been registered\n",
      "WARNING: All log messages before absl::InitializeLog() is called are written to STDERR\n",
      "E0000 00:00:1730095072.776227   94891 cuda_dnn.cc:8310] Unable to register cuDNN factory: Attempting to register factory for plugin cuDNN when one has already been registered\n",
      "E0000 00:00:1730095072.779508   94891 cuda_blas.cc:1418] Unable to register cuBLAS factory: Attempting to register factory for plugin cuBLAS when one has already been registered\n",
      "2024-10-28 14:57:52.790640: I tensorflow/core/platform/cpu_feature_guard.cc:210] This TensorFlow binary is optimized to use available CPU instructions in performance-critical operations.\n",
      "To enable the following instructions: AVX2 AVX512F AVX512_VNNI FMA, in other operations, rebuild TensorFlow with the appropriate compiler flags.\n",
      "No model was supplied, defaulted to distilbert/distilbert-base-uncased-finetuned-sst-2-english and revision 714eb0f (https://huggingface.co/distilbert/distilbert-base-uncased-finetuned-sst-2-english).\n",
      "Using a pipeline without specifying a model name and revision in production is not recommended.\n",
      "Hardware accelerator e.g. GPU is available in the environment, but no `device` argument is passed to the `Pipeline` object. Model will be on CPU.\n"
     ]
    }
   ],
   "source": [
    "from transformers import pipeline\n",
    "classifier = pipeline(\"text-classification\")"
   ]
  },
  {
   "cell_type": "code",
   "execution_count": 2,
   "id": "4d0553cb",
   "metadata": {},
   "outputs": [],
   "source": [
    "text = \"\"\"Dear Amazon, last week I ordered an Optimus Prime action figure\n",
    "from your online store in Germany. Unfortunately, when I opened the package,\n",
    "I discovered to my horror that I had been sent an action figure of Megatron\n",
    "instead! As a lifelong enemy of the Decepticons, I hope you can understand my\n",
    "dilemma. To resolve the issue, I demand an exchange of Megatron for the\n",
    "Optimus Prime figure I ordered. Enclosed are copies of my records concerning\n",
    "this purchase. I expect to hear from you soon. Sincerely, Bumblebee.\"\"\""
   ]
  },
  {
   "cell_type": "code",
   "execution_count": 3,
   "id": "c93d371c",
   "metadata": {},
   "outputs": [
    {
     "name": "stdout",
     "output_type": "stream",
     "text": [
      "      label     score\n",
      "0  NEGATIVE  0.901547\n"
     ]
    }
   ],
   "source": [
    "import pandas as pd\n",
    "outputs = classifier(text)\n",
    "print(pd.DataFrame(outputs))"
   ]
  },
  {
   "cell_type": "markdown",
   "id": "78d7123b",
   "metadata": {},
   "source": [
    "### Named Entity Recognition(개체명 인식)\n",
    "- 이름을 가진 개체(named entity)의 유형(entity_group) 인식하는 것(어떤 이름을 의미하는 단어를 보고 그 단어의 유형을 인식하는 것)\n",
    "    - 유정 - 사람(person)\n",
    "    - 2018년 - 시간(time)\n",
    "    - 골드만삭스 - 조직(organization)"
   ]
  },
  {
   "cell_type": "code",
   "execution_count": 4,
   "id": "50cfc991",
   "metadata": {},
   "outputs": [
    {
     "name": "stderr",
     "output_type": "stream",
     "text": [
      "No model was supplied, defaulted to dbmdz/bert-large-cased-finetuned-conll03-english and revision 4c53496 (https://huggingface.co/dbmdz/bert-large-cased-finetuned-conll03-english).\n",
      "Using a pipeline without specifying a model name and revision in production is not recommended.\n",
      "Some weights of the model checkpoint at dbmdz/bert-large-cased-finetuned-conll03-english were not used when initializing BertForTokenClassification: ['bert.pooler.dense.bias', 'bert.pooler.dense.weight']\n",
      "- This IS expected if you are initializing BertForTokenClassification from the checkpoint of a model trained on another task or with another architecture (e.g. initializing a BertForSequenceClassification model from a BertForPreTraining model).\n",
      "- This IS NOT expected if you are initializing BertForTokenClassification from the checkpoint of a model that you expect to be exactly identical (initializing a BertForSequenceClassification model from a BertForSequenceClassification model).\n",
      "Hardware accelerator e.g. GPU is available in the environment, but no `device` argument is passed to the `Pipeline` object. Model will be on CPU.\n"
     ]
    },
    {
     "name": "stdout",
     "output_type": "stream",
     "text": [
      "  entity_group     score           word  start  end\n",
      "0          ORG  0.879010         Amazon      5   11\n",
      "1         MISC  0.990859  Optimus Prime     36   49\n",
      "2          LOC  0.999755        Germany     90   97\n",
      "3         MISC  0.556569           Mega    208  212\n",
      "4          PER  0.590258         ##tron    212  216\n",
      "5          ORG  0.669692         Decept    253  259\n",
      "6         MISC  0.498350        ##icons    259  264\n",
      "7         MISC  0.775361       Megatron    350  358\n",
      "8         MISC  0.987854  Optimus Prime    367  380\n",
      "9          PER  0.812096      Bumblebee    502  511\n"
     ]
    }
   ],
   "source": [
    "ner_tagger = pipeline(\"ner\", aggregation_strategy=\"simple\")\n",
    "outputs = ner_tagger(text)\n",
    "print(pd.DataFrame(outputs))"
   ]
  },
  {
   "cell_type": "markdown",
   "id": "8732e043",
   "metadata": {},
   "source": [
    "## Question Answering(질의 응답)\n",
    "- 사용자로부터 받은 특정한 종류의 정보에 대한 질문을 자연어로 받아들여 해답을 제공하는 것"
   ]
  },
  {
   "cell_type": "code",
   "execution_count": 5,
   "id": "d8458c70",
   "metadata": {},
   "outputs": [
    {
     "name": "stderr",
     "output_type": "stream",
     "text": [
      "No model was supplied, defaulted to distilbert/distilbert-base-cased-distilled-squad and revision 564e9b5 (https://huggingface.co/distilbert/distilbert-base-cased-distilled-squad).\n",
      "Using a pipeline without specifying a model name and revision in production is not recommended.\n",
      "/home/viplab/anaconda3/envs/deepfake/lib/python3.10/site-packages/transformers/tokenization_utils_base.py:1617: FutureWarning: `clean_up_tokenization_spaces` was not set. It will be set to `True` by default. This behavior will be deprecated in transformers v4.45, and will be then set to `False` by default. For more details check this issue: https://github.com/huggingface/transformers/issues/31884\n",
      "  warnings.warn(\n",
      "Hardware accelerator e.g. GPU is available in the environment, but no `device` argument is passed to the `Pipeline` object. Model will be on CPU.\n"
     ]
    },
    {
     "name": "stdout",
     "output_type": "stream",
     "text": [
      "      score  start  end                   answer\n",
      "0  0.631292    335  358  an exchange of Megatron\n"
     ]
    }
   ],
   "source": [
    "reader = pipeline(\"question-answering\")\n",
    "question = \"What does the customer want?\"\n",
    "outputs = reader(question=question, context=text)\n",
    "print(pd.DataFrame([outputs]))"
   ]
  },
  {
   "cell_type": "markdown",
   "id": "3d2b213c",
   "metadata": {},
   "source": [
    "## Summarizer\n",
    "- 긴 문서나 텍스트에서 핵심적인 내용을 간결하게 요약하는 것"
   ]
  },
  {
   "cell_type": "code",
   "execution_count": 6,
   "id": "3c680b54",
   "metadata": {
    "scrolled": true
   },
   "outputs": [
    {
     "name": "stderr",
     "output_type": "stream",
     "text": [
      "No model was supplied, defaulted to sshleifer/distilbart-cnn-12-6 and revision a4f8f3e (https://huggingface.co/sshleifer/distilbart-cnn-12-6).\n",
      "Using a pipeline without specifying a model name and revision in production is not recommended.\n",
      "/home/viplab/anaconda3/envs/deepfake/lib/python3.10/site-packages/transformers/tokenization_utils_base.py:1617: FutureWarning: `clean_up_tokenization_spaces` was not set. It will be set to `True` by default. This behavior will be deprecated in transformers v4.45, and will be then set to `False` by default. For more details check this issue: https://github.com/huggingface/transformers/issues/31884\n",
      "  warnings.warn(\n",
      "Hardware accelerator e.g. GPU is available in the environment, but no `device` argument is passed to the `Pipeline` object. Model will be on CPU.\n",
      "Your min_length=56 must be inferior than your max_length=45.\n",
      "/home/viplab/anaconda3/envs/deepfake/lib/python3.10/site-packages/transformers/generation/utils.py:1244: UserWarning: Unfeasible length constraints: `min_length` (56) is larger than the maximum possible length (45). Generation will stop at the defined maximum length. You should decrease the minimum length and/or increase the maximum length.\n",
      "  warnings.warn(\n"
     ]
    },
    {
     "name": "stdout",
     "output_type": "stream",
     "text": [
      " Bumblebee ordered an Optimus Prime action figure from your online store in Germany. Unfortunately, when I opened the package, I discovered to my horror that I had been sent an action figure of Megatron instead.\n"
     ]
    }
   ],
   "source": [
    "summarizer = pipeline(\"summarization\")\n",
    "outputs = summarizer(text, max_length=45, clean_up_tokenization_spaces=True)\n",
    "print(outputs[0]['summary_text'])"
   ]
  },
  {
   "cell_type": "markdown",
   "id": "28f3d155",
   "metadata": {},
   "source": [
    "## Translator"
   ]
  },
  {
   "cell_type": "code",
   "execution_count": 7,
   "id": "d1455a56",
   "metadata": {},
   "outputs": [
    {
     "name": "stderr",
     "output_type": "stream",
     "text": [
      "/home/viplab/anaconda3/envs/deepfake/lib/python3.10/site-packages/transformers/models/marian/tokenization_marian.py:175: UserWarning: Recommended: pip install sacremoses.\n",
      "  warnings.warn(\"Recommended: pip install sacremoses.\")\n",
      "Hardware accelerator e.g. GPU is available in the environment, but no `device` argument is passed to the `Pipeline` object. Model will be on CPU.\n"
     ]
    },
    {
     "name": "stdout",
     "output_type": "stream",
     "text": [
      "Sehr geehrter Amazon, letzte Woche habe ich eine Optimus Prime Action Figur aus Ihrem Online-Shop in Deutschland bestellt. Leider, als ich das Paket öffnete, entdeckte ich zu meinem Entsetzen, dass ich stattdessen eine Action Figur von Megatron geschickt worden war! Als lebenslanger Feind der Decepticons, Ich hoffe, Sie können mein Dilemma verstehen. Um das Problem zu lösen, Ich fordere einen Austausch von Megatron für die Optimus Prime Figur habe ich bestellt. Eingeschlossen sind Kopien meiner Aufzeichnungen über diesen Kauf. Ich erwarte, von Ihnen bald zu hören. Aufrichtig, Bumblebee.\n"
     ]
    }
   ],
   "source": [
    "translator = pipeline(\"translation_en_to_de\", model=\"Helsinki-NLP/opus-mt-en-de\")\n",
    "outputs = translator(text, clean_up_tokenization_spaces=True, min_length=100)\n",
    "print(outputs[0]['translation_text'])"
   ]
  },
  {
   "cell_type": "markdown",
   "id": "236be7a8",
   "metadata": {},
   "source": [
    "## Generator"
   ]
  },
  {
   "cell_type": "code",
   "execution_count": 8,
   "id": "aa563be6",
   "metadata": {},
   "outputs": [
    {
     "name": "stderr",
     "output_type": "stream",
     "text": [
      "No model was supplied, defaulted to openai-community/gpt2 and revision 607a30d (https://huggingface.co/openai-community/gpt2).\n",
      "Using a pipeline without specifying a model name and revision in production is not recommended.\n",
      "Hardware accelerator e.g. GPU is available in the environment, but no `device` argument is passed to the `Pipeline` object. Model will be on CPU.\n",
      "Truncation was not explicitly activated but `max_length` is provided a specific value, please use `truncation=True` to explicitly truncate examples to max length. Defaulting to 'longest_first' truncation strategy. If you encode pairs of sequences (GLUE-style) with the tokenizer you can select this strategy more precisely by providing a specific strategy to `truncation`.\n",
      "Setting `pad_token_id` to `eos_token_id`:None for open-end generation.\n"
     ]
    },
    {
     "name": "stdout",
     "output_type": "stream",
     "text": [
      "Dear Amazon, last week I ordered an Optimus Prime action figure\n",
      "from your online store in Germany. Unfortunately, when I opened the package,\n",
      "I discovered to my horror that I had been sent an action figure of Megatron\n",
      "instead! As a lifelong enemy of the Decepticons, I hope you can understand my\n",
      "dilemma. To resolve the issue, I demand an exchange of Megatron for the\n",
      "Optimus Prime figure I ordered. Enclosed are copies of my records concerning\n",
      "this purchase. I expect to hear from you soon. Sincerely, Bumblebee.\n",
      "\n",
      "Customer service response:\n",
      "Dear Bumblebee, I am sorry to hear that your order was mixed up. I'm sorry to say, however, that our staff was\n",
      "\n",
      "out of communication with you as soon as your order was made, and that your order was unclaimed, especially because we were unaware\n",
      "\n",
      "that a shipment was returned due to postage fees, or that we received items mailed\n"
     ]
    }
   ],
   "source": [
    "generator = pipeline(\"text-generation\")\n",
    "response = \"Dear Bumblebee, I am sorry to hear that your order was mixed up.\"\n",
    "prompt = text + \"\\n\\nCustomer service response:\\n\" + response\n",
    "outputs = generator(prompt, max_length=200)\n",
    "print(outputs[0]['generated_text'])"
   ]
  },
  {
   "cell_type": "markdown",
   "id": "ae07b285",
   "metadata": {},
   "source": [
    "## 허깅페이스 생태계\n",
    "- 라이브러리 집합\n",
    "- 허브"
   ]
  },
  {
   "cell_type": "markdown",
   "id": "ea967d68",
   "metadata": {},
   "source": [
    "## 1. Text Classification\n",
    "- Task: Sentiment analysis of a tweet\n",
    "    - Labels: Anger, Disgust, Fear, Joy, Sadness, Surprise\n",
    "- Model: DistillBERT\n",
    "- Required Packages: datasets, pandas, transformers, torch, accelerate, numpy, scikit-learn"
   ]
  },
  {
   "cell_type": "markdown",
   "id": "5ad653a6",
   "metadata": {},
   "source": [
    "### 1) Load dataset"
   ]
  },
  {
   "cell_type": "code",
   "execution_count": 84,
   "id": "ab91e84b",
   "metadata": {},
   "outputs": [
    {
     "name": "stdout",
     "output_type": "stream",
     "text": [
      "DatasetDict({\n",
      "    train: Dataset({\n",
      "        features: ['text', 'label'],\n",
      "        num_rows: 16000\n",
      "    })\n",
      "    validation: Dataset({\n",
      "        features: ['text', 'label'],\n",
      "        num_rows: 2000\n",
      "    })\n",
      "    test: Dataset({\n",
      "        features: ['text', 'label'],\n",
      "        num_rows: 2000\n",
      "    })\n",
      "})\n",
      "Dataset({\n",
      "    features: ['text', 'label'],\n",
      "    num_rows: 16000\n",
      "})\n",
      "16000\n",
      "{'text': 'i didnt feel humiliated', 'label': 0}\n",
      "{'text': Value(dtype='string', id=None), 'label': ClassLabel(names=['sadness', 'joy', 'love', 'anger', 'fear', 'surprise'], id=None)}\n",
      "['i didnt feel humiliated', 'i can go from feeling so hopeless to so damned hopeful just from being around someone who cares and is awake', 'im grabbing a minute to post i feel greedy wrong', 'i am ever feeling nostalgic about the fireplace i will know that it is still on the property', 'i am feeling grouchy']\n"
     ]
    }
   ],
   "source": [
    "from datasets import load_dataset ## Hugging Face Datasets\n",
    "\n",
    "## Load Dataset from Hugging Face Datasets\n",
    "emotions = load_dataset(\"emotion\")\n",
    "# emotions = load_dataset(\"csv\", data_files = \"my_file.csv\")\n",
    "\n",
    "print(emotions)\n",
    "\n",
    "train_ds = emotions[\"train\"] ## Dataset class, which acts like np.array or list.\n",
    "print(train_ds)\n",
    "print(len(train_ds))\n",
    "print(train_ds[0])\n",
    "print(train_ds.features)\n",
    "print(train_ds[\"text\"][:5])"
   ]
  },
  {
   "cell_type": "markdown",
   "id": "96a0c86f",
   "metadata": {},
   "source": [
    "### 2) Datasets to Pandas DataFrame"
   ]
  },
  {
   "cell_type": "code",
   "execution_count": 85,
   "id": "1663dd32",
   "metadata": {},
   "outputs": [
    {
     "name": "stdout",
     "output_type": "stream",
     "text": [
      "                                                                                                           text  label label_name\n",
      "0                                                                                       i didnt feel humiliated      0    sadness\n",
      "1  i can go from feeling so hopeless to so damned hopeful just from being around someone who cares and is awake      0    sadness\n",
      "2                                                              im grabbing a minute to post i feel greedy wrong      3      anger\n",
      "3                  i am ever feeling nostalgic about the fireplace i will know that it is still on the property      2       love\n",
      "4                                                                                          i am feeling grouchy      3      anger\n",
      "label_name\n",
      "surprise     61\n",
      "love        144\n",
      "fear        186\n",
      "anger       221\n",
      "sadness     421\n",
      "joy         567\n",
      "Name: count, dtype: int64\n"
     ]
    }
   ],
   "source": [
    "import pandas as pd\n",
    "emotions.set_format(type=\"pandas\")\n",
    "emotions[\"train\"] = emotions[\"train\"].select(range(1600))\n",
    "emotions[\"validation\"] = emotions[\"validation\"].select(range(200))\n",
    "emotions[\"test\"] = emotions[\"test\"].select(range(200))\n",
    "df = emotions[\"train\"][:]\n",
    "\n",
    "# print(df.head())\n",
    "\n",
    "def label_int2str(row):\n",
    "    return emotions[\"train\"].features[\"label\"].int2str(row)\n",
    "\n",
    "df[\"label_name\"] = df[\"label\"].apply(label_int2str)\n",
    "print(df.head())\n",
    "print(df[\"label_name\"].value_counts(ascending=True))"
   ]
  },
  {
   "cell_type": "markdown",
   "id": "eb069443",
   "metadata": {},
   "source": [
    "### 3) Text to tokens, test"
   ]
  },
  {
   "cell_type": "code",
   "execution_count": 86,
   "id": "37267cec",
   "metadata": {},
   "outputs": [
    {
     "name": "stdout",
     "output_type": "stream",
     "text": [
      "30522 512\n",
      "{'input_ids': [101, 19204, 6026, 3793, 2003, 1037, 4563, 4708, 1997, 17953, 2361, 1012, 102], 'attention_mask': [1, 1, 1, 1, 1, 1, 1, 1, 1, 1, 1, 1, 1]}\n",
      "['[CLS]', 'token', '##izing', 'text', 'is', 'a', 'core', 'task', 'of', 'nl', '##p', '.', '[SEP]']\n",
      "[CLS] tokenizing text is a core task of nlp. [SEP]\n"
     ]
    },
    {
     "name": "stderr",
     "output_type": "stream",
     "text": [
      "/home/viplab/anaconda3/envs/deepfake/lib/python3.10/site-packages/transformers/tokenization_utils_base.py:1617: FutureWarning: `clean_up_tokenization_spaces` was not set. It will be set to `True` by default. This behavior will be deprecated in transformers v4.45, and will be then set to `False` by default. For more details check this issue: https://github.com/huggingface/transformers/issues/31884\n",
      "  warnings.warn(\n"
     ]
    }
   ],
   "source": [
    "## Text to tokens\n",
    "from transformers import AutoTokenizer\n",
    "model_ckpt = \"distilbert-base-uncased\"\n",
    "tokenizer = AutoTokenizer.from_pretrained(model_ckpt)\n",
    "print(tokenizer.vocab_size, tokenizer.model_max_length)\n",
    "\n",
    "# Test\n",
    "text = \"Tokenizing text is a core task of NLP.\"\n",
    "encoded_text = tokenizer(text)\n",
    "print(encoded_text)\n",
    "\n",
    "tokens = tokenizer.convert_ids_to_tokens(encoded_text.input_ids)\n",
    "print(tokens)\n",
    "print(tokenizer.convert_tokens_to_string(tokens))"
   ]
  },
  {
   "cell_type": "markdown",
   "id": "9fc95150",
   "metadata": {},
   "source": [
    "### 4) Text to tokens, all data"
   ]
  },
  {
   "cell_type": "code",
   "execution_count": 87,
   "id": "e3e66040",
   "metadata": {},
   "outputs": [
    {
     "name": "stdout",
     "output_type": "stream",
     "text": [
      "{'input_ids': [[101, 1045, 2134, 2102, 2514, 26608, 102, 0, 0, 0, 0, 0, 0, 0, 0, 0, 0, 0, 0, 0, 0, 0, 0], [101, 1045, 2064, 2175, 2013, 3110, 2061, 20625, 2000, 2061, 9636, 17772, 2074, 2013, 2108, 2105, 2619, 2040, 14977, 1998, 2003, 8300, 102]], 'attention_mask': [[1, 1, 1, 1, 1, 1, 1, 0, 0, 0, 0, 0, 0, 0, 0, 0, 0, 0, 0, 0, 0, 0, 0], [1, 1, 1, 1, 1, 1, 1, 1, 1, 1, 1, 1, 1, 1, 1, 1, 1, 1, 1, 1, 1, 1, 1]], 'label': 0    0\n",
      "1    0\n",
      "Name: label, dtype: int64}\n",
      "['label', 'input_ids', 'attention_mask']\n"
     ]
    }
   ],
   "source": [
    "## Tokenizing all data\n",
    "def tokenize(batch):\n",
    "    tokens = tokenizer(batch[\"text\"].tolist(), padding=True, truncation=True)\n",
    "    tokens[\"label\"] = batch[\"label\"]\n",
    "    return tokens\n",
    "\n",
    "# test\n",
    "print(tokenize(emotions[\"train\"][:2])) ## 0 means [PAD].\n",
    "\n",
    "emotions_encoded = emotions.map(tokenize, batched=True, batch_size=None)\n",
    "# batched=True -> map for each sample, batch_size=None -> map all data at once without batch\n",
    "\n",
    "print(emotions_encoded[\"train\"].column_names) # ['label', 'input_ids', 'attention_mask']"
   ]
  },
  {
   "cell_type": "markdown",
   "id": "e4ba65b4",
   "metadata": {},
   "source": [
    "### 5) Train our text classifier\n",
    "- Method 1. Use pretrained model for feature extraction, and train linear classifier only."
   ]
  },
  {
   "cell_type": "code",
   "execution_count": 88,
   "id": "cd32eaf1",
   "metadata": {},
   "outputs": [
    {
     "name": "stdout",
     "output_type": "stream",
     "text": [
      "torch.Size([1, 6])\n",
      "BaseModelOutput(last_hidden_state=tensor([[[-0.1565, -0.1862,  0.0528,  ..., -0.1188,  0.0662,  0.5470],\n",
      "         [-0.3575, -0.6484, -0.0618,  ..., -0.3040,  0.3508,  0.5221],\n",
      "         [-0.2772, -0.4459,  0.1818,  ..., -0.0948, -0.0076,  0.9958],\n",
      "         [-0.2841, -0.3917,  0.3753,  ..., -0.2151, -0.1173,  1.0526],\n",
      "         [ 0.2661, -0.5094, -0.3180,  ..., -0.4203,  0.0144, -0.2149],\n",
      "         [ 0.9441,  0.0112, -0.4714,  ...,  0.1439, -0.7288, -0.1619]]],\n",
      "       device='cuda:0'), hidden_states=None, attentions=None)\n",
      "torch.Size([1, 6, 768])\n"
     ]
    },
    {
     "data": {
      "text/plain": [
       "tensor([[-1.5651e-01, -1.8620e-01,  5.2777e-02, -1.0634e-01, -1.3163e-02,\n",
       "         -2.6944e-01,  9.2270e-02,  1.5865e-01, -9.8675e-02, -2.9572e-01,\n",
       "         -1.3788e-01, -3.8061e-02, -5.3617e-02,  1.3045e-01,  3.9713e-02,\n",
       "          8.6893e-02,  2.5087e-02,  8.6177e-03,  2.5243e-01, -1.3678e-01,\n",
       "         -1.2137e-01, -1.3896e-01, -1.3426e-01, -9.0844e-02,  3.0509e-02,\n",
       "         -3.8619e-02,  1.1485e-01, -5.7996e-02,  1.0131e-01,  9.7920e-02,\n",
       "          3.8743e-03,  1.1950e-01, -6.6339e-02, -2.1257e-02,  1.3090e-01,\n",
       "          2.6520e-02,  2.3624e-01,  5.0220e-02,  1.3503e-02, -2.1380e-02,\n",
       "         -8.8323e-02, -9.8360e-02,  2.2675e-01, -2.4940e-02, -1.6261e-01,\n",
       "         -8.3787e-02, -1.9629e+00, -1.4541e-01, -1.5582e-01, -3.5487e-01,\n",
       "         -4.5971e-02,  2.0034e-01,  1.3080e-02,  4.9650e-01,  1.0587e-01,\n",
       "          1.2080e-01, -1.9118e-01,  3.8280e-01,  1.7121e-02, -1.6628e-02,\n",
       "          2.1525e-01,  4.4381e-02,  3.9333e-03,  3.5416e-02,  1.2238e-01,\n",
       "          2.1459e-01,  1.5015e-02,  2.3729e-02, -2.0037e-01,  2.9482e-01,\n",
       "         -4.0111e-01, -1.5827e-01, -1.8378e-03,  9.3304e-02, -3.3879e-02,\n",
       "         -1.5265e-01, -1.5221e-02,  4.1115e-02, -9.3805e-02,  7.3235e-02,\n",
       "         -2.6978e-02,  2.3517e-01,  1.9566e-01, -9.4397e-02,  1.5616e-01,\n",
       "          8.4622e-02, -9.8348e-02,  1.0431e-02,  2.0574e-02,  5.4993e-01,\n",
       "         -4.9989e-02,  1.1182e-01, -5.6723e-02,  1.0938e-01,  2.4215e-01,\n",
       "         -3.1020e-01,  9.0788e-02, -1.3781e-01,  3.6213e-01,  2.0996e-01,\n",
       "         -4.6878e-02, -4.4244e-01,  1.0990e-01, -2.8308e-01,  1.1767e-01,\n",
       "         -2.1761e-01, -3.6113e-02,  1.4839e-02, -8.4058e-02, -2.6364e+00,\n",
       "          1.8471e-01,  2.3530e-01, -7.0573e-03, -3.1433e-01, -1.7030e-01,\n",
       "          3.7370e-01,  1.5747e-01,  6.3197e-02,  1.6010e-01,  7.4900e-02,\n",
       "         -3.0234e-01,  6.0412e-01, -1.0716e-03,  1.2461e-02,  1.3156e-03,\n",
       "          3.2261e-01,  1.5119e-01,  1.8443e-01, -1.8306e-03,  5.5242e-02,\n",
       "          1.7249e-01,  3.6644e-01,  2.7258e-01, -1.2720e-02, -3.0868e-01,\n",
       "         -1.1247e-02, -1.0711e-01, -9.7186e-02, -3.2671e-01,  4.6447e-02,\n",
       "         -1.5892e-01, -3.5322e-02, -2.9621e+00,  2.8953e-01,  3.5626e-01,\n",
       "         -2.3008e-02, -2.3858e-01, -2.5866e-01,  1.0932e-01,  2.4408e-01,\n",
       "          3.1092e-02,  3.7053e-01, -2.8538e-01,  1.4399e-01, -2.2006e-01,\n",
       "         -5.5742e-02, -1.0406e-01, -3.4236e-03, -1.1406e-01,  9.1626e-02,\n",
       "          1.7379e-01, -4.3961e-02, -6.4088e-02, -1.4091e-01,  3.6499e-03,\n",
       "         -5.4316e-06,  3.1501e-01,  2.0613e-01,  1.1981e-01,  1.3492e-01,\n",
       "         -1.6633e-01, -2.4867e-01,  1.0433e-01,  1.8241e-01,  4.4173e-02,\n",
       "         -1.4588e-01, -4.6315e-02,  7.3483e-02,  2.1279e-01, -7.2770e-02,\n",
       "         -5.0732e-02,  3.8702e-01,  6.8766e-02,  8.3792e-02,  7.6695e-02,\n",
       "         -8.9175e-02,  3.3622e-01, -2.0837e-01, -9.8360e-03,  2.2285e-01,\n",
       "         -2.0923e-02, -6.2299e-02,  1.1379e-01, -1.5366e-01,  3.2090e-01,\n",
       "          9.9541e-02, -7.0104e-02, -3.5678e-01,  2.7038e-02,  1.2385e-01,\n",
       "         -1.0881e-01, -1.2656e-02,  2.4675e-02,  1.6726e-02, -5.3597e-03,\n",
       "          3.7047e+00,  1.2551e-01, -1.0918e-01,  1.5630e-01,  7.8901e-02,\n",
       "         -5.0735e-02,  2.7044e-01, -1.0225e-01, -2.6742e-01,  2.8723e-01,\n",
       "         -1.8979e-02,  4.7504e-02,  1.2539e-01,  3.6513e-01, -1.0606e-01,\n",
       "          3.5053e-01,  7.4947e-02, -9.5733e-03,  2.4868e-01, -1.3699e-01,\n",
       "          2.4959e-01,  2.0488e-01,  1.8659e-01,  3.2846e-01, -1.1878e+00,\n",
       "         -3.7712e-02, -7.9879e-02,  9.1056e-02,  3.3921e-01, -4.8910e-02,\n",
       "          9.2458e-02,  1.4222e-01,  9.7544e-03,  1.4207e-01,  4.2358e-03,\n",
       "         -4.3188e-02,  4.0460e-01,  5.8708e-02,  1.8671e-01, -2.0797e-01,\n",
       "          6.5574e-02,  3.6067e-02,  7.8454e-03,  6.9947e-02, -1.3707e-01,\n",
       "          3.5834e-02, -1.1707e-01, -7.8782e-02, -2.1260e-01, -8.8604e-02,\n",
       "         -1.0814e-01,  2.1254e-02,  1.7153e-02, -1.4529e-01,  2.4625e-01,\n",
       "         -3.4444e-01, -1.4841e-01,  8.2909e-02,  8.1740e-02, -2.0670e-01,\n",
       "         -1.9392e-01, -1.6727e-01,  9.3486e-03,  1.4353e-01,  1.1203e-01,\n",
       "         -6.9647e-02, -3.6914e-01, -3.0734e-01, -4.2905e+00, -3.3393e-02,\n",
       "         -5.1838e-02,  1.2615e-01,  4.3501e-01, -2.3111e-01,  2.6115e-01,\n",
       "          2.0627e-01,  2.3393e-01, -2.1275e-01,  3.5095e-01,  1.0836e-01,\n",
       "         -3.6565e-02,  1.5057e-01, -3.9018e-01,  1.9519e-01, -8.2638e-02,\n",
       "         -2.1418e-01,  1.6668e-01, -1.0179e-01, -1.4971e-01,  3.9128e-01,\n",
       "         -5.3719e-02,  4.6321e-03, -7.8120e-02, -2.8365e-02, -2.5313e-01,\n",
       "         -1.4142e-01, -2.6593e-02, -1.4239e-01, -1.9666e-02, -1.5155e-01,\n",
       "          3.3605e-02, -1.0159e-01, -2.2451e-01, -2.2571e+00, -6.7969e-02,\n",
       "         -4.9526e-03, -7.3574e-02, -2.1257e-02, -7.4546e-02,  1.9995e-01,\n",
       "         -7.2971e-02, -2.4054e-01,  6.6775e-02, -6.2396e-02, -8.0597e-02,\n",
       "         -2.1546e-01,  2.3629e-01,  3.7188e-01,  1.0614e-01,  1.0466e-01,\n",
       "          5.2806e-02,  2.7806e-01,  2.6389e-01, -9.2675e-02,  1.2516e-03,\n",
       "         -1.8138e-01, -1.7456e-01, -9.2995e-02,  2.2775e-01, -3.5318e-01,\n",
       "          1.4916e-02, -1.9578e-01, -1.4104e-01, -3.4189e-02, -2.1647e-01,\n",
       "          9.0412e-02, -2.4572e-01, -2.0130e-01, -1.1021e-01, -1.1684e-02,\n",
       "          1.3721e-01,  3.8952e-01, -4.8865e-03, -2.7053e-01,  6.3409e-01,\n",
       "          2.0200e-01,  1.4872e-01,  4.6491e-02,  1.0627e-01,  1.0722e-01,\n",
       "         -1.5361e-01, -8.6869e-02,  1.3369e-01, -1.9713e-01,  1.4038e-01,\n",
       "          1.0315e+00, -1.8685e-01,  2.6050e-02, -1.9660e-01,  2.5778e-01,\n",
       "          6.6924e-04,  2.0069e-01,  2.2755e-01,  3.4278e-01, -1.5576e-01,\n",
       "          2.5018e-01, -1.3893e-01, -1.1818e-01, -2.0792e-01,  1.0386e-01,\n",
       "         -3.4501e-01,  1.2341e-01, -8.8423e-02, -3.1816e-02,  1.4676e-01,\n",
       "         -4.9019e-02, -7.0515e-01, -2.7459e-01, -1.4947e-01, -1.4108e-01,\n",
       "          1.6374e-02,  1.1298e-01, -2.6083e-02, -2.5627e-01, -6.1420e-02,\n",
       "         -8.4723e-02,  2.4876e-01,  3.6116e-02, -9.2768e-03, -5.1816e-02,\n",
       "          1.5590e-01, -3.5690e-01,  3.1941e-02,  1.9765e-02,  3.4598e-01,\n",
       "          1.5537e-01,  1.6095e-01,  6.0067e-02, -5.3750e-02,  2.3331e-01,\n",
       "         -7.6175e-01,  1.7123e-01, -2.6502e-01, -2.8683e-02, -3.0222e-01,\n",
       "         -1.8018e-01,  5.2009e-02, -1.6631e-01, -2.8973e-02, -2.5747e-01,\n",
       "          3.8651e-01,  1.4533e-01,  2.5944e-01,  1.5810e-01,  1.9289e-01,\n",
       "         -4.0767e-02,  2.2158e-02,  7.2775e-01,  2.6297e-01, -2.0689e-01,\n",
       "          1.4973e-01,  1.8735e-01, -9.3557e-03,  1.6338e-01,  1.4581e-01,\n",
       "         -6.7698e-02, -1.4764e-01, -1.8688e-01,  3.8129e-03,  7.2977e-02,\n",
       "         -1.5512e-01, -2.1037e-01,  1.3483e-02, -7.3081e-03,  2.6190e-01,\n",
       "         -2.0857e-01, -4.5253e-01, -7.3822e-03, -8.4465e-02, -6.0732e-02,\n",
       "          5.3026e-01,  3.2526e-01,  2.2850e-02,  4.4467e-01,  3.0729e-01,\n",
       "         -1.1506e-01,  2.0496e-01, -6.3092e-02,  2.0245e-01,  6.3865e-02,\n",
       "         -3.8061e-02, -2.7048e-02,  2.4994e-01,  2.1293e-01, -2.7288e-01,\n",
       "          1.5356e-01, -1.4777e-01,  5.5620e-02, -1.9133e-02,  6.5599e-02,\n",
       "         -6.8874e-02,  7.6136e-02, -5.0778e-02,  2.4944e-02,  2.3064e-01,\n",
       "         -1.2261e+00, -1.1638e-02,  2.4535e-01,  8.6997e-02, -8.5431e-02,\n",
       "          3.5067e-02, -7.7357e-02,  4.2437e-01, -5.9187e-02, -1.0323e-01,\n",
       "          1.9593e-02,  6.7797e-02,  2.8566e-02, -2.2128e-03,  8.8576e-02,\n",
       "         -4.6274e-05,  1.9113e-01, -5.6279e-02,  1.1429e-01,  3.1475e-02,\n",
       "         -7.7407e-02,  2.7163e-01,  7.2701e-02, -1.8206e-01, -1.3057e-01,\n",
       "         -5.0377e-04, -1.2133e-01,  2.4968e-01,  1.4598e-01,  5.7917e-03,\n",
       "          1.1630e-01, -2.1038e-01, -4.6718e-01, -6.3134e-02,  4.4540e-02,\n",
       "         -1.2125e-02,  3.7044e-02,  8.5192e-03,  2.3012e-01,  2.3266e-01,\n",
       "         -3.6708e-01,  1.6562e-01,  7.5768e-02, -7.7926e-03,  1.5169e-01,\n",
       "          2.1295e-01, -2.6640e-01,  4.0504e-02, -1.1386e-01, -2.2846e-01,\n",
       "         -1.0333e-01, -3.1094e-01, -2.1480e-01, -9.4105e-02,  8.6468e-02,\n",
       "         -4.3994e-02,  1.0231e-01, -8.4006e-02, -1.3090e-01, -1.1508e-01,\n",
       "          3.1943e-01, -1.5337e-01,  4.1817e-02,  1.7515e-01, -2.0936e-01,\n",
       "         -8.1671e-01,  4.9622e-03, -1.8986e-02, -1.1714e-01,  8.7779e-02,\n",
       "          1.4961e-01, -1.0966e-01, -1.0551e-01, -2.4824e-01, -3.6894e-01,\n",
       "          1.8742e-01, -1.4542e-01, -1.5907e-01,  6.7222e-02, -1.0230e-01,\n",
       "         -7.6807e-03, -2.1918e-01, -1.2886e-01,  7.5978e-02,  1.6376e-01,\n",
       "          6.0811e-02, -4.8050e-02,  3.0757e-02, -1.6963e-02,  1.2096e-01,\n",
       "         -2.3621e-01, -3.6743e-03,  3.4942e-01,  1.9410e-01,  3.1646e-01,\n",
       "         -1.4669e-01,  1.4105e-01,  3.1208e-02,  7.8916e-02, -1.9225e-01,\n",
       "         -7.7251e-02,  2.2214e-01,  1.0162e-03,  1.8466e-01,  7.1833e-02,\n",
       "          2.6436e-01,  2.6826e-01,  1.3592e-01, -2.1796e-01, -1.6706e-01,\n",
       "          1.3375e-02,  2.1478e-01,  1.3276e-01, -9.8466e-02,  1.1731e-01,\n",
       "          6.8677e-02,  9.0567e-02,  8.6924e-02,  2.2121e+00,  2.3419e-01,\n",
       "          4.6251e-02,  8.4623e-02,  1.0094e-01,  2.7246e-01,  6.3896e-02,\n",
       "          1.6722e-01, -1.5285e-02,  1.6185e-01, -1.7157e-01,  1.4791e-03,\n",
       "         -1.9085e-01,  7.5900e-02,  1.1011e-01,  1.2817e-01,  2.7892e-03,\n",
       "          9.5899e-03, -3.6876e-01, -1.1836e-01, -2.7871e-01,  3.6822e-01,\n",
       "          2.2210e-01,  1.1480e-01, -6.7032e-02,  1.9150e-01,  2.2473e-01,\n",
       "         -3.3394e-02, -1.5635e-02, -1.4756e-01,  1.3489e-02,  2.4369e-01,\n",
       "          2.1564e-02,  1.7517e-01, -2.1630e-01, -1.4090e-01,  1.0052e-01,\n",
       "         -3.9014e-01, -6.2830e-02,  5.5798e-02, -3.3514e-02, -3.7368e-01,\n",
       "          3.9487e-01, -1.8948e-01, -1.2572e-01,  3.5203e-01, -1.8874e-02,\n",
       "         -1.5679e-01,  9.3130e-03,  5.3982e-02,  2.0326e-01,  6.7830e-02,\n",
       "         -1.5459e-02,  2.0734e-01, -1.9603e-01, -9.6627e-02,  1.4166e-01,\n",
       "         -2.1276e-02,  5.1488e-02,  1.4469e-01,  1.2545e-03,  1.3108e-01,\n",
       "          1.6095e-01,  1.0591e-01,  5.9295e-02,  4.5836e-02, -1.4150e-01,\n",
       "          1.7824e-01, -2.5738e-01,  1.7106e-01, -1.3729e-02,  9.6227e-02,\n",
       "          1.3197e-01,  2.0739e-01,  2.0907e-01,  3.9640e-02,  3.6874e-01,\n",
       "          1.4475e-01, -8.9563e-02, -2.8406e+00,  2.4573e-01,  1.1533e-01,\n",
       "          2.2787e-01,  5.0309e-02,  2.6345e-01,  1.4782e-01, -2.5632e-02,\n",
       "          2.7831e-02, -6.0150e-02,  1.1571e-01,  2.0700e-01,  2.9178e-01,\n",
       "          5.7775e-02,  2.4075e-01,  1.2063e-01,  8.9519e-02, -1.3806e-01,\n",
       "          8.7437e-02, -8.6127e-02, -3.0587e-01,  1.5690e-01,  1.3057e-01,\n",
       "         -5.8690e-02, -3.5917e-01, -1.2032e-01, -1.0781e-01,  1.1956e-02,\n",
       "          1.3001e-01, -1.7064e-02, -1.3228e-01,  1.9140e-01, -9.4830e-02,\n",
       "          1.3868e-01,  2.3152e-02, -6.3546e-02,  6.9855e-02, -2.3555e-01,\n",
       "          1.5287e-01,  3.8401e-01, -2.2820e-01,  3.4190e-01, -1.7743e-01,\n",
       "          1.7165e-01, -2.3440e-01, -4.6387e-02,  3.1170e-01, -1.3030e-01,\n",
       "          4.7630e-01, -3.2373e-01, -1.4525e-01,  2.8751e-01,  4.5793e-02,\n",
       "          4.5620e-02,  1.2612e-01, -1.0442e-01,  1.0685e-01, -5.9045e-02,\n",
       "         -8.4782e-02, -1.0655e-01, -3.3320e-02, -2.2047e-01, -9.3184e-02,\n",
       "         -1.2764e-01,  2.1311e-01,  1.0957e-05, -6.1856e-02,  1.6222e-01,\n",
       "         -1.7051e-01, -5.3583e-02, -1.0879e-01,  5.1160e-02,  1.1301e-01,\n",
       "          1.6816e-01,  2.4799e-01, -2.6011e-02,  1.6227e-01,  3.3406e-01,\n",
       "          5.3424e-02,  1.6370e-01,  3.5643e-02, -3.6388e-01,  6.7640e-02,\n",
       "          8.7481e-04,  3.0330e-01, -8.1191e+00, -1.5169e-01, -2.4637e-01,\n",
       "         -1.9527e-01, -7.7870e-03, -1.3964e-01,  7.6316e-02, -1.0792e-01,\n",
       "          1.1892e-01, -2.0612e-01, -7.3254e-02,  1.6354e-01, -7.9680e-02,\n",
       "         -1.1881e-01,  6.6206e-02,  5.4702e-01]], device='cuda:0')"
      ]
     },
     "execution_count": 88,
     "metadata": {},
     "output_type": "execute_result"
    }
   ],
   "source": [
    "## Train text classifier: 1. Transfomer for feature extraction, Just train linear classifier\n",
    "from transformers import AutoModel\n",
    "# TFAutoModel: TFAutoModel.from_pretrained(model_ckpt, from_pt=True)\n",
    "import torch\n",
    "\n",
    "model_ckpt = \"distilbert-base-uncased\"\n",
    "device = torch.device(\"cuda\" if torch.cuda.is_available() else \"cpu\") # torch.device(\"cpu\")\n",
    "model = AutoModel.from_pretrained(model_ckpt).to(device)\n",
    "\n",
    "# test\n",
    "text = \"this is a test\"\n",
    "inputs = tokenizer(text, return_tensors=\"pt\")\n",
    "print(inputs[\"input_ids\"].size()) # batch_size * n_tokens\n",
    "\n",
    "inputs = {k:v.to(device) for k, v in inputs.items()}\n",
    "with torch.no_grad():\n",
    "    outputs = model(input_ids = inputs[\"input_ids\"], attention_mask = inputs[\"attention_mask\"])\n",
    "\n",
    "print(outputs)\n",
    "print(outputs.last_hidden_state.size()) # batch_size * n_tokens * hidden_dimension\n",
    "outputs.last_hidden_state[:, 0] # Use hidden state associated with [CLS] token as input feature"
   ]
  },
  {
   "cell_type": "code",
   "execution_count": 89,
   "id": "20f99520",
   "metadata": {},
   "outputs": [
    {
     "name": "stdout",
     "output_type": "stream",
     "text": [
      "['label', 'input_ids', 'attention_mask', 'hidden_state']\n"
     ]
    }
   ],
   "source": [
    "## Feature extraction for the whole dataset\n",
    "def extract_hidden_states(batch):\n",
    "    inputs = {k:v.to(device) for k, v in batch.items()}\n",
    "    with torch.no_grad():\n",
    "        last_hidden_state = model(input_ids = inputs[\"input_ids\"], attention_mask = \n",
    "                                  inputs[\"attention_mask\"]).last_hidden_state\n",
    "    return {\"hidden_state\": last_hidden_state[:, 0].cpu().numpy()}\n",
    "\n",
    "emotions_encoded.set_format(\"torch\", columns=[\"input_ids\", \"attention_mask\", \"label\"])\n",
    "\n",
    "emotions_hidden = emotions_encoded.map(extract_hidden_states, batched=True, batch_size=None)\n",
    "\n",
    "                                             ## If you are running out of memory, set batch_size.\n",
    "print(emotions_hidden[\"train\"].column_names) ## ['label', 'input_ids', 'attention_mask', 'hidden_state']"
   ]
  },
  {
   "cell_type": "code",
   "execution_count": 90,
   "id": "f1522dc3",
   "metadata": {},
   "outputs": [
    {
     "name": "stdout",
     "output_type": "stream",
     "text": [
      "(1600, 768) (200, 768)\n",
      "0.58\n",
      "0.29\n"
     ]
    }
   ],
   "source": [
    "# Make feature matrix\n",
    "import numpy as np\n",
    "X_train = np.array(emotions_hidden[\"train\"][\"hidden_state\"])\n",
    "X_valid = np.array(emotions_hidden[\"validation\"][\"hidden_state\"])\n",
    "y_train = np.array(emotions_hidden[\"train\"][\"label\"])\n",
    "y_valid = np.array(emotions_hidden[\"validation\"][\"label\"])\n",
    "print(X_train.shape, X_valid.shape)\n",
    "\n",
    "## Train a simple classifier\n",
    "from sklearn.linear_model import LogisticRegression\n",
    "from sklearn.dummy import DummyClassifier\n",
    "\n",
    "lr_clf = LogisticRegression(max_iter = 3000)\n",
    "lr_clf.fit(X_train, y_train)\n",
    "print(lr_clf.score(X_valid, y_valid))\n",
    "\n",
    "dummy_clf = DummyClassifier(strategy=\"most_frequent\") # “uniform” for random guess\n",
    "dummy_clf.fit(X_train, y_train)\n",
    "print(dummy_clf.score(X_valid, y_valid))"
   ]
  },
  {
   "cell_type": "markdown",
   "id": "d9a537f6",
   "metadata": {},
   "source": [
    "### 5) Train our text classifier\n",
    "- Method 2. Fine-tuning the pretrained model + linear classifier"
   ]
  },
  {
   "cell_type": "code",
   "execution_count": 91,
   "id": "bfc672fd",
   "metadata": {},
   "outputs": [],
   "source": [
    "# 2. fine tuning Transformer\n",
    "from transformers import AutoModelForSequenceClassification\n",
    "import torch\n",
    "\n",
    "num_labels = 6\n",
    "device = torch.device(\"cuda\" if torch.cuda.is_available() else \"cpu\") # torch.device(\"cpu\")\n",
    "model = AutoModelForSequenceClassification.from_pretrained(model_ckpt, num_labels=num_labels).to(device)\n",
    "\n",
    "from sklearn.metrics import accuracy_score, f1_score\n",
    "def compute_metrics(pred):\n",
    "    labels = pred.label_ids\n",
    "    preds = pred.predictions.argmax(-1)\n",
    "    f1 = f1_score(labels, preds, average = \"weighted\")\n",
    "    acc = accuracy_score(labels, preds)\n",
    "    return {\"accuracy\": acc, \"f1\": f1}"
   ]
  },
  {
   "cell_type": "code",
   "execution_count": 92,
   "id": "cabe373d",
   "metadata": {},
   "outputs": [
    {
     "name": "stderr",
     "output_type": "stream",
     "text": [
      "/home/viplab/anaconda3/envs/deepfake/lib/python3.10/site-packages/transformers/training_args.py:1545: FutureWarning: `evaluation_strategy` is deprecated and will be removed in version 4.46 of 🤗 Transformers. Use `eval_strategy` instead\n",
      "  warnings.warn(\n"
     ]
    }
   ],
   "source": [
    "from transformers import Trainer, TrainingArguments\n",
    "batch_size = 64\n",
    "logging_steps = len(emotions_encoded[\"train\"]) // batch_size\n",
    "model_name = f\"{model_ckpt}-finetuned_emotion\"\n",
    "\n",
    "# Setting for training\n",
    "training_args = TrainingArguments(output_dir=model_name,\n",
    "                                    num_train_epochs=5,\n",
    "                                    learning_rate=1e-4,\n",
    "                                    lr_scheduler_type=\"constant\",\n",
    "                                    per_device_train_batch_size=batch_size,\n",
    "                                    per_device_eval_batch_size=batch_size,\n",
    "                                    weight_decay=0.01,\n",
    "                                    evaluation_strategy=\"epoch\",\n",
    "                                    disable_tqdm=False,\n",
    "                                    logging_steps=logging_steps,\n",
    "                                    push_to_hub=False,\n",
    "                                    save_strategy=\"epoch\",\n",
    "                                    load_best_model_at_end=True,\n",
    "                                    log_level=\"error\")"
   ]
  },
  {
   "cell_type": "code",
   "execution_count": 93,
   "id": "256b6d54",
   "metadata": {},
   "outputs": [
    {
     "data": {
      "text/html": [
       "\n",
       "    <div>\n",
       "      \n",
       "      <progress value='125' max='125' style='width:300px; height:20px; vertical-align: middle;'></progress>\n",
       "      [125/125 00:34, Epoch 5/5]\n",
       "    </div>\n",
       "    <table border=\"1\" class=\"dataframe\">\n",
       "  <thead>\n",
       " <tr style=\"text-align: left;\">\n",
       "      <th>Epoch</th>\n",
       "      <th>Training Loss</th>\n",
       "      <th>Validation Loss</th>\n",
       "      <th>Accuracy</th>\n",
       "      <th>F1</th>\n",
       "    </tr>\n",
       "  </thead>\n",
       "  <tbody>\n",
       "    <tr>\n",
       "      <td>1</td>\n",
       "      <td>1.441500</td>\n",
       "      <td>1.012625</td>\n",
       "      <td>0.650000</td>\n",
       "      <td>0.576465</td>\n",
       "    </tr>\n",
       "    <tr>\n",
       "      <td>2</td>\n",
       "      <td>0.727500</td>\n",
       "      <td>0.478690</td>\n",
       "      <td>0.865000</td>\n",
       "      <td>0.856964</td>\n",
       "    </tr>\n",
       "    <tr>\n",
       "      <td>3</td>\n",
       "      <td>0.272700</td>\n",
       "      <td>0.376461</td>\n",
       "      <td>0.880000</td>\n",
       "      <td>0.881147</td>\n",
       "    </tr>\n",
       "    <tr>\n",
       "      <td>4</td>\n",
       "      <td>0.125000</td>\n",
       "      <td>0.407622</td>\n",
       "      <td>0.895000</td>\n",
       "      <td>0.896877</td>\n",
       "    </tr>\n",
       "    <tr>\n",
       "      <td>5</td>\n",
       "      <td>0.079500</td>\n",
       "      <td>0.386459</td>\n",
       "      <td>0.900000</td>\n",
       "      <td>0.901289</td>\n",
       "    </tr>\n",
       "  </tbody>\n",
       "</table><p>"
      ],
      "text/plain": [
       "<IPython.core.display.HTML object>"
      ]
     },
     "metadata": {},
     "output_type": "display_data"
    },
    {
     "data": {
      "text/html": [],
      "text/plain": [
       "<IPython.core.display.HTML object>"
      ]
     },
     "metadata": {},
     "output_type": "display_data"
    },
    {
     "name": "stdout",
     "output_type": "stream",
     "text": [
      "{'test_loss': 0.37646058201789856, 'test_accuracy': 0.88, 'test_f1': 0.8811465369666294, 'test_runtime': 0.2043, 'test_samples_per_second': 978.787, 'test_steps_per_second': 19.576}\n"
     ]
    }
   ],
   "source": [
    "trainer = Trainer(model=model, args=training_args,\n",
    "                    compute_metrics=compute_metrics,\n",
    "                    train_dataset=emotions_encoded[\"train\"],\n",
    "                    eval_dataset=emotions_encoded[\"validation\"],\n",
    "                    tokenizer=tokenizer)\n",
    "\n",
    "trainer.train()\n",
    "\n",
    "preds_output = trainer.predict(emotions_encoded[\"validation\"])\n",
    "print(preds_output.metrics)"
   ]
  },
  {
   "cell_type": "markdown",
   "id": "bc9a7492",
   "metadata": {},
   "source": [
    "### 6) Error analysis"
   ]
  },
  {
   "cell_type": "code",
   "execution_count": 95,
   "id": "1565a958",
   "metadata": {},
   "outputs": [],
   "source": [
    "from torch.nn.functional import cross_entropy\n",
    "\n",
    "def forward_pass_with_label(batch):\n",
    "    # Move input tensors to the appropriate device\n",
    "    inputs = {k: v.to(device) for k, v in batch.items() if k in tokenizer.model_input_names}\n",
    "    with torch.no_grad():\n",
    "        output = model(input_ids=inputs[\"input_ids\"], attention_mask=inputs[\"attention_mask\"])\n",
    "\n",
    "    # Predict label and calculate loss\n",
    "    pred_label = torch.argmax(output.logits, axis=-1)\n",
    "    loss = cross_entropy(output.logits, batch[\"label\"].to(device), reduction=\"none\")\n",
    "\n",
    "    # Return results as numpy arrays for compatibility with dataset\n",
    "    return {\"loss\": loss.cpu().numpy(), \"predicted_label\": pred_label.cpu().numpy()}\n",
    "\n",
    "# Convert our dataset back to PyTorch tensors\n",
    "emotions_encoded.set_format(\"torch\", columns=[\"input_ids\", \"attention_mask\", \"label\"])"
   ]
  },
  {
   "cell_type": "code",
   "execution_count": 96,
   "id": "1d0aa9eb",
   "metadata": {},
   "outputs": [
    {
     "name": "stderr",
     "output_type": "stream",
     "text": [
      "Map: 100%|████████████████████████████| 200/200 [00:00<00:00, 906.25 examples/s]"
     ]
    },
    {
     "name": "stdout",
     "output_type": "stream",
     "text": [
      "       label predicted_label      loss\n",
      "145     love           anger  5.728366\n",
      "177  sadness             joy  4.759254\n",
      "18      love            fear  4.544511\n",
      "95       joy         sadness  3.826369\n",
      "198     fear           anger  3.814859\n",
      "27       joy            love  3.682483\n",
      "195      joy         sadness  3.650350\n",
      "118    anger        surprise  3.161116\n",
      "17     anger         sadness  3.045929\n",
      "194      joy        surprise  2.992537\n",
      "       label predicted_label      loss\n",
      "26   sadness         sadness  0.013466\n",
      "112  sadness         sadness  0.013773\n",
      "159  sadness         sadness  0.014178\n",
      "189  sadness         sadness  0.014795\n",
      "0    sadness         sadness  0.015209\n",
      "130  sadness         sadness  0.015692\n",
      "29   sadness         sadness  0.016155\n",
      "113  sadness         sadness  0.016652\n",
      "141  sadness         sadness  0.016831\n",
      "49   sadness         sadness  0.016923\n"
     ]
    },
    {
     "name": "stderr",
     "output_type": "stream",
     "text": [
      "\n"
     ]
    }
   ],
   "source": [
    "# Compute loss values\n",
    "emotions_encoded[\"validation\"] = emotions_encoded[\"validation\"].map(forward_pass_with_label,\n",
    "                                                                    batched=True, batch_size=16)\n",
    "\n",
    "emotions_encoded.set_format(\"pandas\")\n",
    "\n",
    "cols = [\"label\", \"predicted_label\", \"loss\"]\n",
    "df_test = emotions_encoded[\"validation\"][:][cols]\n",
    "df_test[\"label\"] = df_test[\"label\"].apply(label_int2str)\n",
    "df_test[\"predicted_label\"] = df_test[\"predicted_label\"].apply(label_int2str)\n",
    "\n",
    "# Set all columns and rows to not be truncated\n",
    "pd.set_option('display.max_columns', None) # Print all rows\n",
    "pd.set_option('display.max_rows', None) # Print all columns\n",
    "pd.set_option('display.expand_frame_repr', False) # Print without scrolling sideways\n",
    "pd.set_option('display.max_colwidth', None) # Print all long strings\n",
    "\n",
    "print(df_test.sort_values(\"loss\", ascending=False).head(10)) # Top 10 test data with the largest errors\n",
    "print(df_test.sort_values(\"loss\", ascending=True).head(10)) # Top 10 test data with the smallest errors"
   ]
  },
  {
   "attachments": {
    "image-3.png": {
     "image/png": "[encoded data removed]"
    }
   },
   "cell_type": "markdown",
   "id": "e3b0d129",
   "metadata": {},
   "source": [
    "## 2. Multilingual Named-Entity Recognition\n",
    "- Task: Named-Entity Recognition (NER)\n",
    "    - NER은 텍스트에서 사람, 조직, 위치와 같은 개체를 식별하는 일반적인 NLP 과제\n",
    "    - e.g., Jeff Dean은 캘리포니아에 있는 Google의 컴퓨터 과학자입니다.\n",
    "        - Jeff: B-PER(Benign Person: 사람 이름의 시작 부분)\n",
    "        - Dean: I-PER(Inside Person: 사람 이름의 나머지 부분)\n",
    "        - Google: B-ORG(Benign Organization: 조직 이름)\n",
    "        - California: B-LOC(Benign Location: 조직 위치)\n",
    "    - Multilingual model(다국어 모델: 여러 언어를 처리하는 모델)을 사용하여 NER 수행\n",
    "- Model: XLM-RoBERTa\n",
    "- Required Packages: datasets, pandas, seqeval\n",
    "- Model architecture for NER(Token classification)\n",
    "![image-3.png](attachment:image-3.png)"
   ]
  },
  {
   "cell_type": "markdown",
   "id": "54732ea0",
   "metadata": {},
   "source": [
    "### Multilingual LLM\n",
    "- 기존에는 영어 말뭉치(corpus)에서 NLP 작업을 해결하기 위해 트랜스포머를 적용했음\n",
    "- 그러나 문서가 한국어, 프랑스어, 그리스어로 작성되어 있다면 어떻게 해야할까?\n",
    "\n",
    "### Approach 1\n",
    "- Hugging Face Hub에서 적합한 사전 학습된 LLM을 찾아 해당 작업에 맞게 파인 튜닝(fine-tune)하여 사용\n",
    "- 그러나 사전 학습된 LLM은 독일어, 러시아어, 중국어와 같은 \"고자원\" 언어에만 주로 존재하는 경향이 있음\n",
    "\n",
    "### Approach 2\n",
    "- 다국어 LLM은 100개 이상의 언어 텍스트에 대해 공동으로 사전 학습(pretrain)됨\n",
    "- 이러한 모델은 제로샷 교차 언어 전이(zero-shot cross-lingual transfer)를 가능하게 하며, 이는 한 언어에서 파인 튜닝된 모델이 추가 학습 없이 다른 언어에도 적용될 수 있음을 의미함\n",
    "    - Zero-shot: 모델이 한 번도 본 적 없는 작업에 대해 학습 없이 바로 수행하는 것\n",
    "        - 모델이 '동물 분류'에 대해서만 학습했는데, '식물 분류' 작업을 처음 접하면서도 어느 정도 정확하게 분류할 수 있다면 Zero-shot\n",
    "    - Few-shot: 모델이 새로운 작업에 대해 아주 적은 데이터로 학습한 후 이를 수행하는 것\n",
    "        - 고양이 사진 분류'에 대해서 2-3개의 예시 사진만 보여주고 학습을 시작했는데도, 모델이 잘 분류할 수 있다면 Few-shot\n",
    "    - Zero-shot cross-lingual transfer: 어떤 언어로 학습한 모델이 다른 언어로 바로 적용되는 것\n",
    "        - e.g., 독일어 텍스트에 대해서만 학습한 모델이 프랑스어, 이탈리어 텍스트에서도 잘 작동하면 zero-shot cross-lingual transfer\n",
    "- 이번 실습에서는 독일어 하위 집합에서 기본 모델을 파인 튜닝한 후, 프랑스어, 이탈리아어, 영어에서의 제로샷 교차 언어 성능을 평가함"
   ]
  },
  {
   "cell_type": "markdown",
   "id": "7e32bf1a",
   "metadata": {},
   "source": [
    "### 1) Load dataset"
   ]
  },
  {
   "cell_type": "code",
   "execution_count": 97,
   "id": "86910a30",
   "metadata": {},
   "outputs": [
    {
     "name": "stderr",
     "output_type": "stream",
     "text": [
      "Generating train split: 100%|█| 20000/20000 [00:00<00:00, 1170596.00 examples/s]\n",
      "Generating validation split: 100%|█| 10000/10000 [00:00<00:00, 1236674.14 exampl\n",
      "Generating test split: 100%|██| 10000/10000 [00:00<00:00, 1155710.35 examples/s]\n",
      "Generating train split: 100%|█| 20000/20000 [00:00<00:00, 1657467.35 examples/s]\n",
      "Generating validation split: 100%|█| 10000/10000 [00:00<00:00, 1547485.24 exampl\n",
      "Generating test split: 100%|██| 10000/10000 [00:00<00:00, 1444269.83 examples/s]\n",
      "Generating train split: 100%|█| 20000/20000 [00:00<00:00, 1538460.18 examples/s]\n",
      "Generating validation split: 100%|█| 10000/10000 [00:00<00:00, 1239634.70 exampl\n",
      "Generating test split: 100%|██| 10000/10000 [00:00<00:00, 1350518.08 examples/s]\n",
      "Generating train split: 100%|██| 20000/20000 [00:00<00:00, 784465.93 examples/s]\n",
      "Generating validation split: 100%|█| 10000/10000 [00:00<00:00, 1459497.53 exampl\n",
      "Generating test split: 100%|██| 10000/10000 [00:00<00:00, 1512169.30 examples/s]\n"
     ]
    }
   ],
   "source": [
    "from datasets import load_dataset\n",
    "from collections import defaultdict\n",
    "from datasets import DatasetDict\n",
    "\n",
    "langs = [\"de\", \"fr\", \"it\", \"en\"]\n",
    "fracs = [0.629, 0.229, 0.084, 0.059]\n",
    "\n",
    "panx_ch = defaultdict(DatasetDict)\n",
    "for lang, frac in zip(langs, fracs):\n",
    "    # Load monolingual corpus\n",
    "    ds = load_dataset(\"xtreme\", name=f\"PAN-X.{lang}\")\n",
    "    # Shuffle and downsample each split according to spoken proportion\n",
    "    for split in ds:\n",
    "        panx_ch[lang][split] = (\n",
    "            ds[split]\n",
    "            .shuffle(seed=0)\n",
    "            .select(range(int(frac * ds[split].num_rows) // 10)))"
   ]
  },
  {
   "cell_type": "code",
   "execution_count": 102,
   "id": "15679c2b",
   "metadata": {},
   "outputs": [
    {
     "name": "stdout",
     "output_type": "stream",
     "text": [
      "                               de   fr   it   en\n",
      "Number of training examples  1258  458  168  118\n",
      "tokens: ['2.000', 'Einwohnern', 'an', 'der', 'Danziger', 'Bucht', 'in', 'der', 'polnischen', 'Woiwodschaft', 'Pommern', '.']\n",
      "ner_tags: [0, 0, 0, 0, 5, 6, 0, 0, 5, 5, 6, 0]\n",
      "langs: ['de', 'de', 'de', 'de', 'de', 'de', 'de', 'de', 'de', 'de', 'de', 'de']\n",
      "ClassLabel(names=['O', 'B-PER', 'I-PER', 'B-ORG', 'I-ORG', 'B-LOC', 'I-LOC'], id=None)\n"
     ]
    },
    {
     "name": "stderr",
     "output_type": "stream",
     "text": [
      "Map: 100%|████████████████████████| 1258/1258 [00:00<00:00, 13525.37 examples/s]\n",
      "Map: 100%|██████████████████████████| 629/629 [00:00<00:00, 13364.96 examples/s]\n",
      "Map: 100%|██████████████████████████| 629/629 [00:00<00:00, 13407.76 examples/s]"
     ]
    },
    {
     "name": "stdout",
     "output_type": "stream",
     "text": [
      "           0           1   2    3         4      5   6    7           8             9        10 11\n",
      "Tokens  2.000  Einwohnern  an  der  Danziger  Bucht  in  der  polnischen  Woiwodschaft  Pommern  .\n",
      "Tags        O           O   O    O     B-LOC  I-LOC   O    O       B-LOC         B-LOC    I-LOC  O\n"
     ]
    },
    {
     "name": "stderr",
     "output_type": "stream",
     "text": [
      "\n"
     ]
    }
   ],
   "source": [
    "import pandas as pd\n",
    "# Number of training examples for each language\n",
    "print(pd.DataFrame({lang: [panx_ch[lang][\"train\"].num_rows] for lang in langs}, index=[\"Number of training examples\"]))\n",
    "                                                                                       \n",
    "# test\n",
    "element = panx_ch[\"de\"][\"train\"][0]\n",
    "for key, value in element.items():\n",
    "    print(f\"{key}: {value}\")\n",
    "                                                                                       \n",
    "# Class labels\n",
    "tags = panx_ch[\"de\"][\"train\"].features[\"ner_tags\"].feature\n",
    "print(tags)\n",
    "\n",
    "# map integer labels to str labels\n",
    "def create_tag_names(batch):\n",
    "    return {\"ner_tags_str\": [tags.int2str(idx) for idx in batch[\"ner_tags\"]]}\n",
    "panx_de = panx_ch[\"de\"].map(create_tag_names)\n",
    "\n",
    "# test: check labels for an instance\n",
    "de_example = panx_de[\"train\"][0]\n",
    "pd.set_option('display.max_columns', None) # Print all columns\n",
    "print(pd.DataFrame(data=[de_example[\"tokens\"], de_example[\"ner_tags_str\"]], index=['Tokens', 'Tags']))"
   ]
  },
  {
   "cell_type": "markdown",
   "id": "9e0bd4cb",
   "metadata": {},
   "source": [
    "### 2) Load pre-trained model"
   ]
  },
  {
   "cell_type": "code",
   "execution_count": 103,
   "id": "43d4d982",
   "metadata": {},
   "outputs": [],
   "source": [
    "## Configuration\n",
    "from transformers import XLMRobertaForTokenClassification\n",
    "xlmr_model_name = \"xlm-roberta-base\"\n",
    "index2tag = {idx: tag for idx, tag in enumerate(tags.names)}\n",
    "tag2index = {tag: idx for idx, tag in enumerate(tags.names)}\n",
    "\n",
    "from transformers import AutoConfig\n",
    "xlmr_config = AutoConfig.from_pretrained(xlmr_model_name,\n",
    "                                            num_labels=tags.num_classes,\n",
    "                                            id2label=index2tag, label2id=tag2index)\n",
    "\n",
    "# Load pretrained model\n",
    "import torch\n",
    "device = torch.device(\"cuda\" if torch.cuda.is_available() else \"cpu\") # torch.device(\"cpu\")\n",
    "xlmr_model = ((XLMRobertaForTokenClassification\n",
    "                .from_pretrained(xlmr_model_name, config=xlmr_config))\n",
    "                .to(device))"
   ]
  },
  {
   "attachments": {
    "image.png": {
     "image/png": "[encoded data removed]"
    }
   },
   "cell_type": "markdown",
   "id": "4db76afe",
   "metadata": {},
   "source": [
    "### 3) Tokenize\n",
    "![image.png](attachment:image.png)\n",
    "\n",
    "- Original data:\n",
    "    - 원본 데이터에는 문장 단위로 개체명(예: 지명, 인명 등)이 포함된 텍스트가 있고, 각 단어마다 NER 라벨이 지정됨\n",
    "    - 여기서는 \"Danziger Bucht\", \"Woiwodschaft Pommern\"과 같은 지명이 포함되어 있으며, 각각 B-LOC, I-LOC와 같은 라벨이 할당되어 있음\n",
    "    - O: 개체명이 아닌 일반 단어\n",
    "    - B-LOC: 지명(Location) 시작 부분\n",
    "    - I-LOC: 지명 중간 또는 끝 부분\n",
    "\n",
    "- Tokenized data:\n",
    "    - 원본 데이터를 토큰화하면 단어가 분할되어 더 작은 단위로 나뉘게 됨\n",
    "    - 예를 들어, \"Danziger\"는 \"_Dan\", \"zi\", \"ger\"로 분리될 수 있음\n",
    "    - 각 분리된 토큰에도 적절한 라벨을 할당해야 하는데, 토큰화 과정에서 추가된 토큰에는 IGN이라는 무시(Ignore) 라벨을 수동으로 할당함\n",
    "    - IGN 라벨은 모델이 학습할 때 무시하도록 하는 라벨로, 개체명이 아닌 불필요한 토큰에 할당함"
   ]
  },
  {
   "cell_type": "code",
   "execution_count": 104,
   "id": "2d97c90b",
   "metadata": {},
   "outputs": [
    {
     "name": "stderr",
     "output_type": "stream",
     "text": [
      "/home/viplab/anaconda3/envs/deepfake/lib/python3.10/site-packages/transformers/tokenization_utils_base.py:1617: FutureWarning: `clean_up_tokenization_spaces` was not set. It will be set to `True` by default. This behavior will be deprecated in transformers v4.45, and will be then set to `False` by default. For more details check this issue: https://github.com/huggingface/transformers/issues/31884\n",
      "  warnings.warn(\n",
      "Map: 100%|████████████████████████| 1258/1258 [00:00<00:00, 11984.13 examples/s]\n",
      "Map: 100%|██████████████████████████| 629/629 [00:00<00:00, 13045.18 examples/s]\n",
      "Map: 100%|██████████████████████████| 629/629 [00:00<00:00, 13059.90 examples/s]\n"
     ]
    }
   ],
   "source": [
    "from transformers import AutoTokenizer\n",
    "xlmr_tokenizer = AutoTokenizer.from_pretrained(xlmr_model_name)\n",
    "\n",
    "def tokenize_and_align_labels(examples):\n",
    "    tokenized_inputs = xlmr_tokenizer(examples[\"tokens\"], truncation=True, is_split_into_words=True)\n",
    "    labels = []\n",
    "    \n",
    "    for idx, label in enumerate(examples[\"ner_tags\"]):\n",
    "        word_ids = tokenized_inputs.word_ids(batch_index=idx)\n",
    "        previous_word_idx = None\n",
    "        label_ids = []\n",
    "\n",
    "        for word_idx in word_ids:\n",
    "            if word_idx is None or word_idx == previous_word_idx:\n",
    "                label_ids.append(-100)\n",
    "            else:\n",
    "                label_ids.append(label[word_idx])     \n",
    "            previous_word_idx = word_idx\n",
    "            \n",
    "        labels.append(label_ids)    \n",
    "    tokenized_inputs[\"labels\"] = labels\n",
    "    return tokenized_inputs\n",
    "\n",
    "def encode_panx_dataset(corpus):\n",
    "    return corpus.map(tokenize_and_align_labels, batched=True, remove_columns=['langs', 'ner_tags', 'tokens'])\n",
    "\n",
    "panx_de_encoded = encode_panx_dataset(panx_ch[\"de\"])"
   ]
  },
  {
   "cell_type": "markdown",
   "id": "4859b38d",
   "metadata": {},
   "source": [
    "### 4) Performance Measures\n",
    "    - NER evaluation: Accuracy (Precision, Recall, F1)\n",
    "    - 몇몇 라이브러리는 NER 성능 평가를 제공함"
   ]
  },
  {
   "cell_type": "code",
   "execution_count": 107,
   "id": "c1ab0d1c",
   "metadata": {},
   "outputs": [
    {
     "name": "stdout",
     "output_type": "stream",
     "text": [
      "              precision    recall  f1-score   support\n",
      "\n",
      "        MISC       0.00      0.00      0.00         1\n",
      "         PER       1.00      1.00      1.00         1\n",
      "\n",
      "   micro avg       0.50      0.50      0.50         2\n",
      "   macro avg       0.50      0.50      0.50         2\n",
      "weighted avg       0.50      0.50      0.50         2\n",
      "\n"
     ]
    }
   ],
   "source": [
    "from seqeval.metrics import classification_report\n",
    "y_true = [[\"O\", \"O\", \"O\", \"B-MISC\", \"I-MISC\", \"I-MISC\", \"O\"], [\"B-PER\", \"I-PER\", \"O\"]]\n",
    "y_pred = [[\"O\", \"O\", \"B-MISC\", \"I-MISC\", \"I-MISC\", \"I-MISC\", \"O\"], [\"B-PER\", \"I-PER\", \"O\"]]\n",
    "print(classification_report(y_true, y_pred))"
   ]
  },
  {
   "cell_type": "code",
   "execution_count": 110,
   "id": "09883474",
   "metadata": {},
   "outputs": [],
   "source": [
    "import numpy as np\n",
    "\n",
    "def align_predictions(predictions, label_ids):\n",
    "    preds = np.argmax(predictions, axis=2)\n",
    "    batch_size, seq_len = preds.shape\n",
    "    labels_list, preds_list = [], []\n",
    "    for batch_idx in range(batch_size):\n",
    "        example_labels, example_preds = [], []\n",
    "        for seq_idx in range(seq_len):\n",
    "            # Ignore label IDs = -100\n",
    "            if label_ids[batch_idx, seq_idx] != -100:\n",
    "                example_labels.append(index2tag[label_ids[batch_idx][seq_idx]])\n",
    "                example_preds.append(index2tag[preds[batch_idx][seq_idx]])\n",
    "\n",
    "        labels_list.append(example_labels)\n",
    "        preds_list.append(example_preds)\n",
    "        \n",
    "    return preds_list, labels_list"
   ]
  },
  {
   "cell_type": "markdown",
   "id": "c331608d",
   "metadata": {},
   "source": [
    "### 5) Fine-tuning XLM-RoBERTa"
   ]
  },
  {
   "cell_type": "code",
   "execution_count": 111,
   "id": "c631ffc3",
   "metadata": {},
   "outputs": [
    {
     "name": "stderr",
     "output_type": "stream",
     "text": [
      "/home/viplab/anaconda3/envs/deepfake/lib/python3.10/site-packages/transformers/training_args.py:1545: FutureWarning: `evaluation_strategy` is deprecated and will be removed in version 4.46 of 🤗 Transformers. Use `eval_strategy` instead\n",
      "  warnings.warn(\n"
     ]
    }
   ],
   "source": [
    "## Fine-tuning pretrained model\n",
    "# Training Arguments\n",
    "from transformers import TrainingArguments\n",
    "\n",
    "num_epochs = 3\n",
    "batch_size = 24\n",
    "logging_steps = len(panx_de_encoded[\"train\"]) // batch_size\n",
    "model_name = f\"{xlmr_model_name}-finetuned-panx-de\"\n",
    "training_args = TrainingArguments(\n",
    "    output_dir=model_name, log_level=\"error\", num_train_epochs=num_epochs,\n",
    "    per_device_train_batch_size=batch_size,\n",
    "    per_device_eval_batch_size=batch_size, evaluation_strategy=\"epoch\",\n",
    "    save_steps=1e6, weight_decay=0.01, disable_tqdm=False,\n",
    "    logging_steps=logging_steps, push_to_hub=False, fp16=True)"
   ]
  },
  {
   "cell_type": "code",
   "execution_count": 112,
   "id": "431f47b4",
   "metadata": {},
   "outputs": [],
   "source": [
    "# Metrics\n",
    "from seqeval.metrics import f1_score\n",
    "\n",
    "def compute_metrics(eval_pred):\n",
    "    y_pred, y_true = align_predictions(eval_pred.predictions, eval_pred.label_ids)\n",
    "    return {\"f1\": f1_score(y_true, y_pred)}\n",
    "\n",
    "# Padding for labels\n",
    "from transformers import DataCollatorForTokenClassification\n",
    "data_collator = DataCollatorForTokenClassification(xlmr_tokenizer)"
   ]
  },
  {
   "cell_type": "code",
   "execution_count": 113,
   "id": "100b19f2",
   "metadata": {},
   "outputs": [
    {
     "data": {
      "text/html": [
       "\n",
       "    <div>\n",
       "      \n",
       "      <progress value='159' max='159' style='width:300px; height:20px; vertical-align: middle;'></progress>\n",
       "      [159/159 00:26, Epoch 3/3]\n",
       "    </div>\n",
       "    <table border=\"1\" class=\"dataframe\">\n",
       "  <thead>\n",
       " <tr style=\"text-align: left;\">\n",
       "      <th>Epoch</th>\n",
       "      <th>Training Loss</th>\n",
       "      <th>Validation Loss</th>\n",
       "      <th>F1</th>\n",
       "    </tr>\n",
       "  </thead>\n",
       "  <tbody>\n",
       "    <tr>\n",
       "      <td>1</td>\n",
       "      <td>0.773600</td>\n",
       "      <td>0.347566</td>\n",
       "      <td>0.581040</td>\n",
       "    </tr>\n",
       "    <tr>\n",
       "      <td>2</td>\n",
       "      <td>0.271800</td>\n",
       "      <td>0.214865</td>\n",
       "      <td>0.738691</td>\n",
       "    </tr>\n",
       "    <tr>\n",
       "      <td>3</td>\n",
       "      <td>0.162700</td>\n",
       "      <td>0.195095</td>\n",
       "      <td>0.775109</td>\n",
       "    </tr>\n",
       "  </tbody>\n",
       "</table><p>"
      ],
      "text/plain": [
       "<IPython.core.display.HTML object>"
      ]
     },
     "metadata": {},
     "output_type": "display_data"
    },
    {
     "data": {
      "text/plain": [
       "TrainOutput(global_step=159, training_loss=0.4005824638612615, metrics={'train_runtime': 26.8604, 'train_samples_per_second': 140.504, 'train_steps_per_second': 5.919, 'total_flos': 88863286574568.0, 'train_loss': 0.4005824638612615, 'epoch': 3.0})"
      ]
     },
     "execution_count": 113,
     "metadata": {},
     "output_type": "execute_result"
    }
   ],
   "source": [
    "# Train the model\n",
    "def model_init():\n",
    "    return (XLMRobertaForTokenClassification\n",
    "        .from_pretrained(xlmr_model_name, config=xlmr_config)\n",
    "        .to(device))\n",
    "\n",
    "from transformers import Trainer\n",
    "trainer = Trainer(model_init=model_init, args=training_args,\n",
    "                data_collator=data_collator, compute_metrics=compute_metrics,\n",
    "                train_dataset=panx_de_encoded[\"train\"],\n",
    "                eval_dataset=panx_de_encoded[\"validation\"],\n",
    "                tokenizer=xlmr_tokenizer)\n",
    "\n",
    "trainer.train()"
   ]
  },
  {
   "cell_type": "markdown",
   "id": "495f95a8",
   "metadata": {},
   "source": [
    "### 6) Corss-lingual transfer performance\n",
    "- Trained on Germany\n",
    "- Tested on Franch, Italian, and English"
   ]
  },
  {
   "cell_type": "code",
   "execution_count": 114,
   "id": "5080b14b",
   "metadata": {},
   "outputs": [
    {
     "data": {
      "text/html": [],
      "text/plain": [
       "<IPython.core.display.HTML object>"
      ]
     },
     "metadata": {},
     "output_type": "display_data"
    },
    {
     "name": "stdout",
     "output_type": "stream",
     "text": [
      "F1-score of [de] model on [de] dataset: 0.784\n"
     ]
    }
   ],
   "source": [
    "## Cross-lingual Transfer Performance\n",
    "def get_f1_score(trainer, dataset):\n",
    "    return trainer.predict(dataset).metrics[\"test_f1\"]\n",
    "\n",
    "# 1. de to de\n",
    "f1_scores = defaultdict(dict)\n",
    "f1_scores[\"de\"][\"de\"] = get_f1_score(trainer, panx_de_encoded[\"test\"])\n",
    "print(f\"F1-score of [de] model on [de] dataset: {f1_scores['de']['de']:.3f}\")"
   ]
  },
  {
   "cell_type": "code",
   "execution_count": 116,
   "id": "65f34928",
   "metadata": {},
   "outputs": [
    {
     "name": "stderr",
     "output_type": "stream",
     "text": [
      "Map: 100%|██████████████████████████| 458/458 [00:00<00:00, 14969.27 examples/s]\n",
      "Map: 100%|██████████████████████████| 229/229 [00:00<00:00, 15285.02 examples/s]\n",
      "Map: 100%|██████████████████████████| 229/229 [00:00<00:00, 12941.20 examples/s]\n"
     ]
    },
    {
     "data": {
      "text/html": [],
      "text/plain": [
       "<IPython.core.display.HTML object>"
      ]
     },
     "metadata": {},
     "output_type": "display_data"
    },
    {
     "name": "stdout",
     "output_type": "stream",
     "text": [
      "F1-score of [de] model on [fr] dataset: 0.604\n"
     ]
    },
    {
     "name": "stderr",
     "output_type": "stream",
     "text": [
      "Map: 100%|███████████████████████████| 168/168 [00:00<00:00, 9893.06 examples/s]\n",
      "Map: 100%|█████████████████████████████| 84/84 [00:00<00:00, 7646.53 examples/s]\n",
      "Map: 100%|█████████████████████████████| 84/84 [00:00<00:00, 9194.19 examples/s]\n"
     ]
    },
    {
     "data": {
      "text/html": [],
      "text/plain": [
       "<IPython.core.display.HTML object>"
      ]
     },
     "metadata": {},
     "output_type": "display_data"
    },
    {
     "name": "stdout",
     "output_type": "stream",
     "text": [
      "F1-score of [de] model on [it] dataset: 0.678\n"
     ]
    },
    {
     "name": "stderr",
     "output_type": "stream",
     "text": [
      "Map: 100%|██████████████████████████| 118/118 [00:00<00:00, 11334.40 examples/s]\n",
      "Map: 100%|█████████████████████████████| 59/59 [00:00<00:00, 6028.50 examples/s]\n",
      "Map: 100%|█████████████████████████████| 59/59 [00:00<00:00, 7628.83 examples/s]\n"
     ]
    },
    {
     "data": {
      "text/html": [],
      "text/plain": [
       "<IPython.core.display.HTML object>"
      ]
     },
     "metadata": {},
     "output_type": "display_data"
    },
    {
     "name": "stdout",
     "output_type": "stream",
     "text": [
      "F1-score of [de] model on [en] dataset: 0.598\n"
     ]
    }
   ],
   "source": [
    "# 2. de to others\n",
    "def evaluate_lang_performance(lang, trainer):\n",
    "    panx_ds = encode_panx_dataset(panx_ch[lang])\n",
    "    return get_f1_score(trainer, panx_ds[\"test\"])\n",
    "\n",
    "f1_scores[\"de\"][\"fr\"] = evaluate_lang_performance(\"fr\", trainer)\n",
    "print(f\"F1-score of [de] model on [fr] dataset: {f1_scores['de']['fr']:.3f}\")\n",
    "\n",
    "f1_scores[\"de\"][\"it\"] = evaluate_lang_performance(\"it\", trainer)\n",
    "print(f\"F1-score of [de] model on [it] dataset: {f1_scores['de']['it']:.3f}\")\n",
    "\n",
    "f1_scores[\"de\"][\"en\"] = evaluate_lang_performance(\"en\", trainer)\n",
    "print(f\"F1-score of [de] model on [en] dataset: {f1_scores['de']['en']:.3f}\")"
   ]
  },
  {
   "cell_type": "code",
   "execution_count": null,
   "id": "ac2a15f1",
   "metadata": {},
   "outputs": [],
   "source": []
  }
 ],
 "metadata": {
  "kernelspec": {
   "display_name": "deepfake",
   "language": "python",
   "name": "deepfake"
  },
  "language_info": {
   "codemirror_mode": {
    "name": "ipython",
    "version": 3
   },
   "file_extension": ".py",
   "mimetype": "text/x-python",
   "name": "python",
   "nbconvert_exporter": "python",
   "pygments_lexer": "ipython3",
   "version": "3.10.14"
  }
 },
 "nbformat": 4,
 "nbformat_minor": 5
}
